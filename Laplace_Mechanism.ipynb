{
  "nbformat": 4,
  "nbformat_minor": 0,
  "metadata": {
    "colab": {
      "name": "Laplace Mechanism.ipynb",
      "provenance": []
    },
    "kernelspec": {
      "name": "python3",
      "display_name": "Python 3"
    }
  },
  "cells": [
    {
      "cell_type": "markdown",
      "metadata": {
        "id": "rDfaYbQA7GHF",
        "colab_type": "text"
      },
      "source": [
        "# Differential Privacy (Laplace Mechanism)"
      ]
    },
    {
      "cell_type": "markdown",
      "metadata": {
        "id": "YhI489xQEbc5",
        "colab_type": "text"
      },
      "source": [
        "\\--------------------------------------\n",
        "This notebook is created 2020-09-03: karapto\n",
        "\\--------------------------------------"
      ]
    },
    {
      "cell_type": "markdown",
      "metadata": {
        "id": "1GVLbtbADlDL",
        "colab_type": "text"
      },
      "source": [
        "### Load module"
      ]
    },
    {
      "cell_type": "code",
      "metadata": {
        "id": "earJ9NUuHryh",
        "colab_type": "code",
        "colab": {}
      },
      "source": [
        "import random\n",
        "import numpy as np\n",
        "import scipy\n",
        "from scipy.stats import laplace   \n",
        "import math"
      ],
      "execution_count": null,
      "outputs": []
    },
    {
      "cell_type": "markdown",
      "metadata": {
        "id": "LM34ezOmDqDg",
        "colab_type": "text"
      },
      "source": [
        "Here, we sample test score from 10,000 students."
      ]
    },
    {
      "cell_type": "code",
      "metadata": {
        "id": "uzywZzfXIBKo",
        "colab_type": "code",
        "colab": {
          "base_uri": "https://localhost:8080/",
          "height": 35
        },
        "outputId": "2836ea84-6287-472d-d4cd-8d7740676281"
      },
      "source": [
        "n = 20000\n",
        "score = [random.randint(0, 100) for i in range(n)]\n",
        "np.mean(score)"
      ],
      "execution_count": null,
      "outputs": [
        {
          "output_type": "execute_result",
          "data": {
            "text/plain": [
              "50.0059"
            ]
          },
          "metadata": {
            "tags": []
          },
          "execution_count": 2
        }
      ]
    },
    {
      "cell_type": "markdown",
      "metadata": {
        "id": "eTb_YlvDEJ_U",
        "colab_type": "text"
      },
      "source": [
        "Set the privacy strength ε. \n",
        "Here we set ε to 0.1. \n",
        "When we issue a query for the mean, we also find 1/n for the sensitivity, giving the parameter R in the Laplace mechanism as Δ1 and q/ε."
      ]
    },
    {
      "cell_type": "code",
      "metadata": {
        "id": "p9zh8dWaImBW",
        "colab_type": "code",
        "colab": {}
      },
      "source": [
        "epsilon = 0.1\n",
        "sensitivity_mean = 1/n\n",
        "R = sensitivity_mean / epsilon"
      ],
      "execution_count": null,
      "outputs": []
    },
    {
      "cell_type": "markdown",
      "metadata": {
        "id": "KX4SKIfPE26w",
        "colab_type": "text"
      },
      "source": [
        "Find the error r from the Laplace distribution and add it to the mean value query."
      ]
    },
    {
      "cell_type": "code",
      "metadata": {
        "id": "WFZJStfhJ2k_",
        "colab_type": "code",
        "colab": {
          "base_uri": "https://localhost:8080/",
          "height": 52
        },
        "outputId": "0c8311d4-df80-4a0e-c94a-28bd8377a483"
      },
      "source": [
        "r = laplace.rvs(size=1,loc=0,scale=R)\n",
        "print('r is ',r)\n",
        "qD = np.mean(score) + r\n",
        "print(qD)"
      ],
      "execution_count": null,
      "outputs": [
        {
          "output_type": "stream",
          "text": [
            "r is  [0.00024345]\n",
            "[50.00614345]\n"
          ],
          "name": "stdout"
        }
      ]
    },
    {
      "cell_type": "markdown",
      "metadata": {
        "id": "CMoEBmhKFJRO",
        "colab_type": "text"
      },
      "source": [
        "It is a natural to wonder how much the Laplace mechanism will deviate from the actual value when applied.\n",
        "Therefore, the mechanism has been proven to have a probabilistic upper limit of less than or equal to its accuracy to evaluate."
      ]
    },
    {
      "cell_type": "code",
      "metadata": {
        "id": "j66OrtpkLrLW",
        "colab_type": "code",
        "colab": {}
      },
      "source": [
        "l1_mean_sensitivity = 100 / n\n",
        "l1_max_sensitivity = 100\n",
        "delta = 0.05"
      ],
      "execution_count": null,
      "outputs": []
    },
    {
      "cell_type": "code",
      "metadata": {
        "id": "2pbPCa3BLzpk",
        "colab_type": "code",
        "colab": {
          "base_uri": "https://localhost:8080/",
          "height": 35
        },
        "outputId": "dbfe24be-584f-4d14-cfd7-7b0f35a114d4"
      },
      "source": [
        "prob_mean_upper_bound = 1/(epsilon * n) * math.log(1 / delta)\n",
        "print(prob_mean_upper_bound)"
      ],
      "execution_count": null,
      "outputs": [
        {
          "output_type": "stream",
          "text": [
            "0.0014978661367769954\n"
          ],
          "name": "stdout"
        }
      ]
    },
    {
      "cell_type": "markdown",
      "metadata": {
        "id": "xgkN4Zj6FX7J",
        "colab_type": "text"
      },
      "source": [
        "Now that we know it's theoretically guaranteed, we are going to try it out."
      ]
    },
    {
      "cell_type": "code",
      "metadata": {
        "id": "zrX73b_18zYV",
        "colab_type": "code",
        "colab": {
          "base_uri": "https://localhost:8080/",
          "height": 35
        },
        "outputId": "bc91cc10-e747-43b9-ec34-62bf7aebf2e0"
      },
      "source": [
        "count_list = []\n",
        "for i in range(n):\n",
        "  r = laplace.rvs(size=1,loc=0,scale=R)\n",
        "  qD = np.mean(score) + r\n",
        "  if (abs(np.mean(score) - qD) < prob_mean_upper_bound) == True:\n",
        "    count_list.append(1)\n",
        "\n",
        "print(len(count_list)/n)"
      ],
      "execution_count": null,
      "outputs": [
        {
          "output_type": "stream",
          "text": [
            "0.95065\n"
          ],
          "name": "stdout"
        }
      ]
    }
  ]
}